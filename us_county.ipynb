{
 "cells": [
  {
   "cell_type": "markdown",
   "metadata": {},
   "source": [
    "# First counties in every US state to report confirmed COVID case\n",
    "\n",
    "Using NYT data COVID-19 data: https://github.com/nytimes/covid-19-data"
   ]
  },
  {
   "cell_type": "code",
   "execution_count": 1,
   "metadata": {},
   "outputs": [],
   "source": [
    "import pandas as pd\n",
    "import numpy as np\n",
    "import matplotlib.pyplot as plt"
   ]
  },
  {
   "cell_type": "code",
   "execution_count": 2,
   "metadata": {},
   "outputs": [],
   "source": [
    "df = pd.read_csv('data/us-counties.csv')"
   ]
  },
  {
   "cell_type": "code",
   "execution_count": 4,
   "metadata": {},
   "outputs": [],
   "source": [
    "county_dic = {}\n",
    "n_states = len(df['state'].unique())\n",
    "for i, row in df.iterrows():\n",
    "    if row['cases'] > 0 and row['state'] not in county_dic:\n",
    "        county_dic[row['state']] = [row['county'], row['date']]\n",
    "    if len(county_dic.keys()) == n_states:\n",
    "        break"
   ]
  },
  {
   "cell_type": "code",
   "execution_count": 5,
   "metadata": {},
   "outputs": [
    {
     "data": {
      "text/plain": [
       "{'Washington': ['Snohomish', '2020-01-21'],\n",
       " 'Illinois': ['Cook', '2020-01-24'],\n",
       " 'California': ['Orange', '2020-01-25'],\n",
       " 'Arizona': ['Maricopa', '2020-01-26'],\n",
       " 'Massachusetts': ['Suffolk', '2020-02-01'],\n",
       " 'Wisconsin': ['Dane', '2020-02-05'],\n",
       " 'Texas': ['Bexar', '2020-02-12'],\n",
       " 'Nebraska': ['Douglas', '2020-02-17'],\n",
       " 'Utah': ['Salt Lake', '2020-02-25'],\n",
       " 'Oregon': ['Washington', '2020-02-28'],\n",
       " 'Florida': ['Hillsborough', '2020-03-01'],\n",
       " 'New York': ['New York City', '2020-03-01'],\n",
       " 'Rhode Island': ['Unknown', '2020-03-01'],\n",
       " 'Georgia': ['Fulton', '2020-03-02'],\n",
       " 'New Hampshire': ['Grafton', '2020-03-02'],\n",
       " 'North Carolina': ['Wake', '2020-03-03'],\n",
       " 'New Jersey': ['Bergen', '2020-03-04'],\n",
       " 'Colorado': ['Douglas', '2020-03-05'],\n",
       " 'Maryland': ['Montgomery', '2020-03-05'],\n",
       " 'Nevada': ['Clark', '2020-03-05'],\n",
       " 'Tennessee': ['Williamson', '2020-03-05'],\n",
       " 'Hawaii': ['Honolulu', '2020-03-06'],\n",
       " 'Indiana': ['Marion', '2020-03-06'],\n",
       " 'Kentucky': ['Fayette', '2020-03-06'],\n",
       " 'Minnesota': ['Ramsey', '2020-03-06'],\n",
       " 'Oklahoma': ['Tulsa', '2020-03-06'],\n",
       " 'Pennsylvania': ['Delaware', '2020-03-06'],\n",
       " 'South Carolina': ['Charleston', '2020-03-06'],\n",
       " 'District of Columbia': ['District of Columbia', '2020-03-07'],\n",
       " 'Kansas': ['Johnson', '2020-03-07'],\n",
       " 'Missouri': ['St. Louis', '2020-03-07'],\n",
       " 'Vermont': ['Bennington', '2020-03-07'],\n",
       " 'Virginia': ['Fairfax', '2020-03-07'],\n",
       " 'Connecticut': ['Fairfield', '2020-03-08'],\n",
       " 'Iowa': ['Johnson', '2020-03-08'],\n",
       " 'Louisiana': ['Jefferson', '2020-03-09'],\n",
       " 'Ohio': ['Cuyahoga', '2020-03-09'],\n",
       " 'Michigan': ['Oakland', '2020-03-10'],\n",
       " 'South Dakota': ['Beadle', '2020-03-10'],\n",
       " 'Arkansas': ['Jefferson', '2020-03-11'],\n",
       " 'Delaware': ['New Castle', '2020-03-11'],\n",
       " 'Mississippi': ['Forrest', '2020-03-11'],\n",
       " 'New Mexico': ['Bernalillo', '2020-03-11'],\n",
       " 'North Dakota': ['Ward', '2020-03-11'],\n",
       " 'Wyoming': ['Sheridan', '2020-03-11'],\n",
       " 'Alaska': ['Anchorage', '2020-03-12'],\n",
       " 'Maine': ['Androscoggin', '2020-03-12'],\n",
       " 'Alabama': ['Elmore', '2020-03-13'],\n",
       " 'Idaho': ['Ada', '2020-03-13'],\n",
       " 'Montana': ['Gallatin', '2020-03-13'],\n",
       " 'Puerto Rico': ['Unknown', '2020-03-13'],\n",
       " 'Virgin Islands': ['Unknown', '2020-03-14'],\n",
       " 'Guam': ['Unknown', '2020-03-15'],\n",
       " 'West Virginia': ['Jefferson', '2020-03-17'],\n",
       " 'Northern Mariana Islands': ['Unknown', '2020-03-28']}"
      ]
     },
     "execution_count": 5,
     "metadata": {},
     "output_type": "execute_result"
    }
   ],
   "source": [
    "county_dic"
   ]
  },
  {
   "cell_type": "code",
   "execution_count": 6,
   "metadata": {},
   "outputs": [
    {
     "ename": "ModuleNotFoundError",
     "evalue": "No module named 'plotly'",
     "output_type": "error",
     "traceback": [
      "\u001b[1;31m---------------------------------------------------------------------------\u001b[0m",
      "\u001b[1;31mModuleNotFoundError\u001b[0m                       Traceback (most recent call last)",
      "\u001b[1;32m<ipython-input-6-90b6fc795f49>\u001b[0m in \u001b[0;36m<module>\u001b[1;34m\u001b[0m\n\u001b[0;32m      1\u001b[0m \u001b[1;32mfrom\u001b[0m \u001b[0murllib\u001b[0m\u001b[1;33m.\u001b[0m\u001b[0mrequest\u001b[0m \u001b[1;32mimport\u001b[0m \u001b[0murlopen\u001b[0m\u001b[1;33m\u001b[0m\u001b[1;33m\u001b[0m\u001b[0m\n\u001b[0;32m      2\u001b[0m \u001b[1;32mimport\u001b[0m \u001b[0mjson\u001b[0m\u001b[1;33m\u001b[0m\u001b[1;33m\u001b[0m\u001b[0m\n\u001b[1;32m----> 3\u001b[1;33m \u001b[1;32mimport\u001b[0m \u001b[0mplotly\u001b[0m\u001b[1;33m.\u001b[0m\u001b[0mexpress\u001b[0m \u001b[1;32mas\u001b[0m \u001b[0mpx\u001b[0m\u001b[1;33m\u001b[0m\u001b[1;33m\u001b[0m\u001b[0m\n\u001b[0m\u001b[0;32m      4\u001b[0m \u001b[1;32mimport\u001b[0m \u001b[0mpandas\u001b[0m \u001b[1;32mas\u001b[0m \u001b[0mpd\u001b[0m\u001b[1;33m\u001b[0m\u001b[1;33m\u001b[0m\u001b[0m\n",
      "\u001b[1;31mModuleNotFoundError\u001b[0m: No module named 'plotly'"
     ]
    }
   ],
   "source": [
    "from urllib.request import urlopen\n",
    "import json\n",
    "import plotly.express as px\n",
    "import pandas as pd"
   ]
  },
  {
   "cell_type": "code",
   "execution_count": null,
   "metadata": {},
   "outputs": [],
   "source": []
  }
 ],
 "metadata": {
  "kernelspec": {
   "display_name": "Python 3",
   "language": "python",
   "name": "python3"
  },
  "language_info": {
   "codemirror_mode": {
    "name": "ipython",
    "version": 3
   },
   "file_extension": ".py",
   "mimetype": "text/x-python",
   "name": "python",
   "nbconvert_exporter": "python",
   "pygments_lexer": "ipython3",
   "version": "3.8.5"
  }
 },
 "nbformat": 4,
 "nbformat_minor": 4
}
